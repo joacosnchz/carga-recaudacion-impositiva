{
 "cells": [
  {
   "cell_type": "code",
   "execution_count": 1,
   "metadata": {},
   "outputs": [],
   "source": [
    "import pandas as pd\n",
    "import numpy as np\n",
    "import matplotlib.pyplot as plt\n",
    "import seaborn as sns\n",
    "\n",
    "sns.set()"
   ]
  },
  {
   "cell_type": "code",
   "execution_count": 2,
   "metadata": {},
   "outputs": [
    {
     "data": {
      "text/html": [
       "<div>\n",
       "<style scoped>\n",
       "    .dataframe tbody tr th:only-of-type {\n",
       "        vertical-align: middle;\n",
       "    }\n",
       "\n",
       "    .dataframe tbody tr th {\n",
       "        vertical-align: top;\n",
       "    }\n",
       "\n",
       "    .dataframe thead th {\n",
       "        text-align: right;\n",
       "    }\n",
       "</style>\n",
       "<table border=\"1\" class=\"dataframe\">\n",
       "  <thead>\n",
       "    <tr style=\"text-align: right;\">\n",
       "      <th></th>\n",
       "      <th>Country Name</th>\n",
       "      <th>Country Code</th>\n",
       "      <th>Indicator Name</th>\n",
       "      <th>Indicator Code</th>\n",
       "      <th>1960</th>\n",
       "      <th>1961</th>\n",
       "      <th>1962</th>\n",
       "      <th>1963</th>\n",
       "      <th>1964</th>\n",
       "      <th>1965</th>\n",
       "      <th>...</th>\n",
       "      <th>2011</th>\n",
       "      <th>2012</th>\n",
       "      <th>2013</th>\n",
       "      <th>2014</th>\n",
       "      <th>2015</th>\n",
       "      <th>2016</th>\n",
       "      <th>2017</th>\n",
       "      <th>2018</th>\n",
       "      <th>2019</th>\n",
       "      <th>Unnamed: 64</th>\n",
       "    </tr>\n",
       "  </thead>\n",
       "  <tbody>\n",
       "    <tr>\n",
       "      <th>0</th>\n",
       "      <td>Aruba</td>\n",
       "      <td>ABW</td>\n",
       "      <td>Recaudación impositiva (% del PIB)</td>\n",
       "      <td>GC.TAX.TOTL.GD.ZS</td>\n",
       "      <td>NaN</td>\n",
       "      <td>NaN</td>\n",
       "      <td>NaN</td>\n",
       "      <td>NaN</td>\n",
       "      <td>NaN</td>\n",
       "      <td>NaN</td>\n",
       "      <td>...</td>\n",
       "      <td>NaN</td>\n",
       "      <td>NaN</td>\n",
       "      <td>NaN</td>\n",
       "      <td>NaN</td>\n",
       "      <td>NaN</td>\n",
       "      <td>NaN</td>\n",
       "      <td>NaN</td>\n",
       "      <td>NaN</td>\n",
       "      <td>NaN</td>\n",
       "      <td>NaN</td>\n",
       "    </tr>\n",
       "    <tr>\n",
       "      <th>1</th>\n",
       "      <td>Afganistán</td>\n",
       "      <td>AFG</td>\n",
       "      <td>Recaudación impositiva (% del PIB)</td>\n",
       "      <td>GC.TAX.TOTL.GD.ZS</td>\n",
       "      <td>NaN</td>\n",
       "      <td>NaN</td>\n",
       "      <td>NaN</td>\n",
       "      <td>NaN</td>\n",
       "      <td>NaN</td>\n",
       "      <td>NaN</td>\n",
       "      <td>...</td>\n",
       "      <td>8.916794</td>\n",
       "      <td>7.707801</td>\n",
       "      <td>7.122773</td>\n",
       "      <td>6.882103</td>\n",
       "      <td>7.585382</td>\n",
       "      <td>8.842616</td>\n",
       "      <td>9.250468</td>\n",
       "      <td>NaN</td>\n",
       "      <td>NaN</td>\n",
       "      <td>NaN</td>\n",
       "    </tr>\n",
       "    <tr>\n",
       "      <th>2</th>\n",
       "      <td>Angola</td>\n",
       "      <td>AGO</td>\n",
       "      <td>Recaudación impositiva (% del PIB)</td>\n",
       "      <td>GC.TAX.TOTL.GD.ZS</td>\n",
       "      <td>NaN</td>\n",
       "      <td>NaN</td>\n",
       "      <td>NaN</td>\n",
       "      <td>NaN</td>\n",
       "      <td>NaN</td>\n",
       "      <td>NaN</td>\n",
       "      <td>...</td>\n",
       "      <td>16.103413</td>\n",
       "      <td>14.822719</td>\n",
       "      <td>14.184763</td>\n",
       "      <td>13.542630</td>\n",
       "      <td>11.002019</td>\n",
       "      <td>9.732512</td>\n",
       "      <td>9.223777</td>\n",
       "      <td>NaN</td>\n",
       "      <td>NaN</td>\n",
       "      <td>NaN</td>\n",
       "    </tr>\n",
       "    <tr>\n",
       "      <th>3</th>\n",
       "      <td>Albania</td>\n",
       "      <td>ALB</td>\n",
       "      <td>Recaudación impositiva (% del PIB)</td>\n",
       "      <td>GC.TAX.TOTL.GD.ZS</td>\n",
       "      <td>NaN</td>\n",
       "      <td>NaN</td>\n",
       "      <td>NaN</td>\n",
       "      <td>NaN</td>\n",
       "      <td>NaN</td>\n",
       "      <td>NaN</td>\n",
       "      <td>...</td>\n",
       "      <td>18.022012</td>\n",
       "      <td>17.483234</td>\n",
       "      <td>16.503275</td>\n",
       "      <td>18.301941</td>\n",
       "      <td>18.515796</td>\n",
       "      <td>17.590228</td>\n",
       "      <td>18.879744</td>\n",
       "      <td>18.61218</td>\n",
       "      <td>NaN</td>\n",
       "      <td>NaN</td>\n",
       "    </tr>\n",
       "    <tr>\n",
       "      <th>4</th>\n",
       "      <td>Andorra</td>\n",
       "      <td>AND</td>\n",
       "      <td>Recaudación impositiva (% del PIB)</td>\n",
       "      <td>GC.TAX.TOTL.GD.ZS</td>\n",
       "      <td>NaN</td>\n",
       "      <td>NaN</td>\n",
       "      <td>NaN</td>\n",
       "      <td>NaN</td>\n",
       "      <td>NaN</td>\n",
       "      <td>NaN</td>\n",
       "      <td>...</td>\n",
       "      <td>NaN</td>\n",
       "      <td>NaN</td>\n",
       "      <td>NaN</td>\n",
       "      <td>NaN</td>\n",
       "      <td>NaN</td>\n",
       "      <td>NaN</td>\n",
       "      <td>NaN</td>\n",
       "      <td>NaN</td>\n",
       "      <td>NaN</td>\n",
       "      <td>NaN</td>\n",
       "    </tr>\n",
       "  </tbody>\n",
       "</table>\n",
       "<p>5 rows × 65 columns</p>\n",
       "</div>"
      ],
      "text/plain": [
       "  Country Name Country Code                      Indicator Name  \\\n",
       "0        Aruba          ABW  Recaudación impositiva (% del PIB)   \n",
       "1   Afganistán          AFG  Recaudación impositiva (% del PIB)   \n",
       "2       Angola          AGO  Recaudación impositiva (% del PIB)   \n",
       "3      Albania          ALB  Recaudación impositiva (% del PIB)   \n",
       "4      Andorra          AND  Recaudación impositiva (% del PIB)   \n",
       "\n",
       "      Indicator Code  1960  1961  1962  1963  1964  1965  ...       2011  \\\n",
       "0  GC.TAX.TOTL.GD.ZS   NaN   NaN   NaN   NaN   NaN   NaN  ...        NaN   \n",
       "1  GC.TAX.TOTL.GD.ZS   NaN   NaN   NaN   NaN   NaN   NaN  ...   8.916794   \n",
       "2  GC.TAX.TOTL.GD.ZS   NaN   NaN   NaN   NaN   NaN   NaN  ...  16.103413   \n",
       "3  GC.TAX.TOTL.GD.ZS   NaN   NaN   NaN   NaN   NaN   NaN  ...  18.022012   \n",
       "4  GC.TAX.TOTL.GD.ZS   NaN   NaN   NaN   NaN   NaN   NaN  ...        NaN   \n",
       "\n",
       "        2012       2013       2014       2015       2016       2017      2018  \\\n",
       "0        NaN        NaN        NaN        NaN        NaN        NaN       NaN   \n",
       "1   7.707801   7.122773   6.882103   7.585382   8.842616   9.250468       NaN   \n",
       "2  14.822719  14.184763  13.542630  11.002019   9.732512   9.223777       NaN   \n",
       "3  17.483234  16.503275  18.301941  18.515796  17.590228  18.879744  18.61218   \n",
       "4        NaN        NaN        NaN        NaN        NaN        NaN       NaN   \n",
       "\n",
       "   2019  Unnamed: 64  \n",
       "0   NaN          NaN  \n",
       "1   NaN          NaN  \n",
       "2   NaN          NaN  \n",
       "3   NaN          NaN  \n",
       "4   NaN          NaN  \n",
       "\n",
       "[5 rows x 65 columns]"
      ]
     },
     "execution_count": 2,
     "metadata": {},
     "output_type": "execute_result"
    }
   ],
   "source": [
    "recaudacion = pd.read_csv('recaudacion.csv')\n",
    "recaudacion.head()"
   ]
  },
  {
   "cell_type": "markdown",
   "metadata": {},
   "source": [
    "Recaudación impositiva de los paises expresada como porcetaje de su Producto Bruto Interno."
   ]
  },
  {
   "cell_type": "code",
   "execution_count": 3,
   "metadata": {
    "scrolled": true
   },
   "outputs": [
    {
     "data": {
      "text/html": [
       "<div>\n",
       "<style scoped>\n",
       "    .dataframe tbody tr th:only-of-type {\n",
       "        vertical-align: middle;\n",
       "    }\n",
       "\n",
       "    .dataframe tbody tr th {\n",
       "        vertical-align: top;\n",
       "    }\n",
       "\n",
       "    .dataframe thead th {\n",
       "        text-align: right;\n",
       "    }\n",
       "</style>\n",
       "<table border=\"1\" class=\"dataframe\">\n",
       "  <thead>\n",
       "    <tr style=\"text-align: right;\">\n",
       "      <th></th>\n",
       "      <th>Country Name</th>\n",
       "      <th>Country Code</th>\n",
       "      <th>Indicator Name</th>\n",
       "      <th>Indicator Code</th>\n",
       "      <th>1960</th>\n",
       "      <th>1961</th>\n",
       "      <th>1962</th>\n",
       "      <th>1963</th>\n",
       "      <th>1964</th>\n",
       "      <th>1965</th>\n",
       "      <th>...</th>\n",
       "      <th>2011</th>\n",
       "      <th>2012</th>\n",
       "      <th>2013</th>\n",
       "      <th>2014</th>\n",
       "      <th>2015</th>\n",
       "      <th>2016</th>\n",
       "      <th>2017</th>\n",
       "      <th>2018</th>\n",
       "      <th>2019</th>\n",
       "      <th>Unnamed: 64</th>\n",
       "    </tr>\n",
       "  </thead>\n",
       "  <tbody>\n",
       "    <tr>\n",
       "      <th>0</th>\n",
       "      <td>Aruba</td>\n",
       "      <td>ABW</td>\n",
       "      <td>Tasa tributaria total (% de utilidades comerci...</td>\n",
       "      <td>IC.TAX.TOTL.CP.ZS</td>\n",
       "      <td>NaN</td>\n",
       "      <td>NaN</td>\n",
       "      <td>NaN</td>\n",
       "      <td>NaN</td>\n",
       "      <td>NaN</td>\n",
       "      <td>NaN</td>\n",
       "      <td>...</td>\n",
       "      <td>NaN</td>\n",
       "      <td>NaN</td>\n",
       "      <td>NaN</td>\n",
       "      <td>NaN</td>\n",
       "      <td>NaN</td>\n",
       "      <td>NaN</td>\n",
       "      <td>NaN</td>\n",
       "      <td>NaN</td>\n",
       "      <td>NaN</td>\n",
       "      <td>NaN</td>\n",
       "    </tr>\n",
       "    <tr>\n",
       "      <th>1</th>\n",
       "      <td>Afganistán</td>\n",
       "      <td>AFG</td>\n",
       "      <td>Tasa tributaria total (% de utilidades comerci...</td>\n",
       "      <td>IC.TAX.TOTL.CP.ZS</td>\n",
       "      <td>NaN</td>\n",
       "      <td>NaN</td>\n",
       "      <td>NaN</td>\n",
       "      <td>NaN</td>\n",
       "      <td>NaN</td>\n",
       "      <td>NaN</td>\n",
       "      <td>...</td>\n",
       "      <td>35.8</td>\n",
       "      <td>35.8</td>\n",
       "      <td>35.6</td>\n",
       "      <td>36.1</td>\n",
       "      <td>36.1</td>\n",
       "      <td>47.9</td>\n",
       "      <td>71.4</td>\n",
       "      <td>71.4</td>\n",
       "      <td>71.4</td>\n",
       "      <td>NaN</td>\n",
       "    </tr>\n",
       "    <tr>\n",
       "      <th>2</th>\n",
       "      <td>Angola</td>\n",
       "      <td>AGO</td>\n",
       "      <td>Tasa tributaria total (% de utilidades comerci...</td>\n",
       "      <td>IC.TAX.TOTL.CP.ZS</td>\n",
       "      <td>NaN</td>\n",
       "      <td>NaN</td>\n",
       "      <td>NaN</td>\n",
       "      <td>NaN</td>\n",
       "      <td>NaN</td>\n",
       "      <td>NaN</td>\n",
       "      <td>...</td>\n",
       "      <td>52.3</td>\n",
       "      <td>52.3</td>\n",
       "      <td>52.6</td>\n",
       "      <td>52.6</td>\n",
       "      <td>49.0</td>\n",
       "      <td>48.0</td>\n",
       "      <td>49.1</td>\n",
       "      <td>49.1</td>\n",
       "      <td>49.1</td>\n",
       "      <td>NaN</td>\n",
       "    </tr>\n",
       "    <tr>\n",
       "      <th>3</th>\n",
       "      <td>Albania</td>\n",
       "      <td>ALB</td>\n",
       "      <td>Tasa tributaria total (% de utilidades comerci...</td>\n",
       "      <td>IC.TAX.TOTL.CP.ZS</td>\n",
       "      <td>NaN</td>\n",
       "      <td>NaN</td>\n",
       "      <td>NaN</td>\n",
       "      <td>NaN</td>\n",
       "      <td>NaN</td>\n",
       "      <td>NaN</td>\n",
       "      <td>...</td>\n",
       "      <td>38.7</td>\n",
       "      <td>38.8</td>\n",
       "      <td>31.7</td>\n",
       "      <td>31.6</td>\n",
       "      <td>36.9</td>\n",
       "      <td>36.9</td>\n",
       "      <td>37.3</td>\n",
       "      <td>37.3</td>\n",
       "      <td>36.6</td>\n",
       "      <td>NaN</td>\n",
       "    </tr>\n",
       "    <tr>\n",
       "      <th>4</th>\n",
       "      <td>Andorra</td>\n",
       "      <td>AND</td>\n",
       "      <td>Tasa tributaria total (% de utilidades comerci...</td>\n",
       "      <td>IC.TAX.TOTL.CP.ZS</td>\n",
       "      <td>NaN</td>\n",
       "      <td>NaN</td>\n",
       "      <td>NaN</td>\n",
       "      <td>NaN</td>\n",
       "      <td>NaN</td>\n",
       "      <td>NaN</td>\n",
       "      <td>...</td>\n",
       "      <td>NaN</td>\n",
       "      <td>NaN</td>\n",
       "      <td>NaN</td>\n",
       "      <td>NaN</td>\n",
       "      <td>NaN</td>\n",
       "      <td>NaN</td>\n",
       "      <td>NaN</td>\n",
       "      <td>NaN</td>\n",
       "      <td>NaN</td>\n",
       "      <td>NaN</td>\n",
       "    </tr>\n",
       "  </tbody>\n",
       "</table>\n",
       "<p>5 rows × 65 columns</p>\n",
       "</div>"
      ],
      "text/plain": [
       "  Country Name Country Code  \\\n",
       "0        Aruba          ABW   \n",
       "1   Afganistán          AFG   \n",
       "2       Angola          AGO   \n",
       "3      Albania          ALB   \n",
       "4      Andorra          AND   \n",
       "\n",
       "                                      Indicator Name     Indicator Code  1960  \\\n",
       "0  Tasa tributaria total (% de utilidades comerci...  IC.TAX.TOTL.CP.ZS   NaN   \n",
       "1  Tasa tributaria total (% de utilidades comerci...  IC.TAX.TOTL.CP.ZS   NaN   \n",
       "2  Tasa tributaria total (% de utilidades comerci...  IC.TAX.TOTL.CP.ZS   NaN   \n",
       "3  Tasa tributaria total (% de utilidades comerci...  IC.TAX.TOTL.CP.ZS   NaN   \n",
       "4  Tasa tributaria total (% de utilidades comerci...  IC.TAX.TOTL.CP.ZS   NaN   \n",
       "\n",
       "   1961  1962  1963  1964  1965  ...  2011  2012  2013  2014  2015  2016  \\\n",
       "0   NaN   NaN   NaN   NaN   NaN  ...   NaN   NaN   NaN   NaN   NaN   NaN   \n",
       "1   NaN   NaN   NaN   NaN   NaN  ...  35.8  35.8  35.6  36.1  36.1  47.9   \n",
       "2   NaN   NaN   NaN   NaN   NaN  ...  52.3  52.3  52.6  52.6  49.0  48.0   \n",
       "3   NaN   NaN   NaN   NaN   NaN  ...  38.7  38.8  31.7  31.6  36.9  36.9   \n",
       "4   NaN   NaN   NaN   NaN   NaN  ...   NaN   NaN   NaN   NaN   NaN   NaN   \n",
       "\n",
       "   2017  2018  2019  Unnamed: 64  \n",
       "0   NaN   NaN   NaN          NaN  \n",
       "1  71.4  71.4  71.4          NaN  \n",
       "2  49.1  49.1  49.1          NaN  \n",
       "3  37.3  37.3  36.6          NaN  \n",
       "4   NaN   NaN   NaN          NaN  \n",
       "\n",
       "[5 rows x 65 columns]"
      ]
     },
     "execution_count": 3,
     "metadata": {},
     "output_type": "execute_result"
    }
   ],
   "source": [
    "carga = pd.read_csv('tasa_tributaria_total.csv')\n",
    "carga.head()"
   ]
  },
  {
   "cell_type": "markdown",
   "metadata": {},
   "source": [
    "Tasa tributaria total, representando la carga impositiva que enfrentan las empresas como un porcentaje de sus utilidades comerciales."
   ]
  },
  {
   "cell_type": "code",
   "execution_count": 4,
   "metadata": {},
   "outputs": [
    {
     "data": {
      "text/plain": [
       "<matplotlib.legend.Legend at 0x1a1befd510>"
      ]
     },
     "execution_count": 4,
     "metadata": {},
     "output_type": "execute_result"
    },
    {
     "data": {
      "image/png": "[encoded data removed]",
      "text/plain": [
       "<Figure size 432x288 with 2 Axes>"
      ]
     },
     "metadata": {},
     "output_type": "display_data"
    }
   ],
   "source": [
    "carga_mundial = pd.DataFrame(index=range(2005,2019),dtype='float64')\n",
    "carga_mundial['mundo'] = 0\n",
    "carga_mundial['arg'] = 0\n",
    "\n",
    "for index,row in carga.iterrows():    \n",
    "    for anio in range(2005,2019):\n",
    "        previous = carga_mundial.at[anio, 'mundo']\n",
    "        if not np.isnan(row[str(anio)]):\n",
    "            carga_mundial.at[anio, 'mundo'] = previous + row[str(anio)]\n",
    "\n",
    "            if row['Country Code'] == 'ARG':\n",
    "                carga_mundial.at[anio, 'arg'] = row[str(anio)]\n",
    "        \n",
    "fig, ax1 = plt.subplots()\n",
    "ax1.set_title('Tasa tributaria total en argentina y el mundo')\n",
    "ax1.plot(carga_mundial.mundo,c='red',label='mundo')\n",
    "ax1.set_ylabel('Tasa tributaria total en el mundo')\n",
    "ax1.set_xlabel('Años')\n",
    "ax2 = ax1.twinx() \n",
    "ax2.plot(carga_mundial.arg, label='arg')\n",
    "ax2.set_ylabel('Tasa tributaria en argentina')\n",
    "fig.legend()"
   ]
  },
  {
   "cell_type": "markdown",
   "metadata": {},
   "source": [
    "En el mundo, la carga impositiva se viene reduciendo. En Argentina, se mantiene por encima del 100%"
   ]
  },
  {
   "cell_type": "code",
   "execution_count": 5,
   "metadata": {},
   "outputs": [
    {
     "data": {
      "text/plain": [
       "Text(0, 0.5, 'Tasa tributaria total (% utilidades)')"
      ]
     },
     "execution_count": 5,
     "metadata": {},
     "output_type": "execute_result"
    },
    {
     "data": {
      "image/png": "[encoded data removed]",
      "text/plain": [
       "<Figure size 432x288 with 1 Axes>"
      ]
     },
     "metadata": {},
     "output_type": "display_data"
    }
   ],
   "source": [
    "fig,ax=plt.subplots()\n",
    "plt.scatter(recaudacion['2018'], carga['2018'])\n",
    "ax.set_title('Recaudación vs Carga Impositiva 2018')\n",
    "ax.set_xlabel('Recaudacion Impositiva (% PBI)')\n",
    "ax.set_ylabel('Tasa tributaria total (% utilidades)')"
   ]
  },
  {
   "cell_type": "markdown",
   "metadata": {},
   "source": [
    "En 2018, vemos a Argentina como único pais con una tasa tributaria por encima del 100%, recaudando menos del 10% del PBI. Los paises con niveles de impuestos menores al 60% recaudan en su mayoría entre el 10% y el 35% del PBI."
   ]
  },
  {
   "cell_type": "code",
   "execution_count": 6,
   "metadata": {},
   "outputs": [
    {
     "data": {
      "image/png": "[encoded data removed]",
      "text/plain": [
       "<Figure size 432x288 with 1 Axes>"
      ]
     },
     "metadata": {},
     "output_type": "display_data"
    }
   ],
   "source": [
    "countries = ['Argentina', 'Brasil', 'Uruguay', 'Chile', 'Paraguay']\n",
    "\n",
    "fig,ax = plt.subplots()\n",
    "ax.set_title('Recaudación impositiva principales paises del Mercosur')\n",
    "ax.set_ylabel('Recaudación impositiva (% PBI)')\n",
    "for country in countries:\n",
    "    ax.bar(country, recaudacion[recaudacion['Country Name'] == country]['2018'])"
   ]
  },
  {
   "cell_type": "code",
   "execution_count": 7,
   "metadata": {},
   "outputs": [
    {
     "data": {
      "image/png": "[encoded data removed]",
      "text/plain": [
       "<Figure size 432x288 with 1 Axes>"
      ]
     },
     "metadata": {},
     "output_type": "display_data"
    }
   ],
   "source": [
    "fig,ax = plt.subplots()\n",
    "ax.set_title('Carga impositiva principales paises del Mercosur')\n",
    "ax.set_ylabel('Tasa tributaria total (% de utilidades)')\n",
    "\n",
    "for country in countries:\n",
    "    plt.bar(country, carga[carga['Country Name'] == country]['2018'])"
   ]
  },
  {
   "cell_type": "markdown",
   "metadata": {},
   "source": [
    "Argentina junto con Paraguay son los paises con menor recaudación de impuestos dentro de los principales estados del Mercosur. \n",
    "\n",
    "Por otro lado, Uruguay tiene la mayor recaudación de la región con una de las menores cargas impositivas. \n",
    "\n",
    "Paraguay también tiene una carga impositiva menor al 40% lo cual indicaría que una alta recaudación de impuestos por parte del estado no es únicamente consecuencia de una baja carga impositiva, pero sí una condición necesaria."
   ]
  },
  {
   "cell_type": "markdown",
   "metadata": {},
   "source": [
    "Fuentes:\n",
    "- https://datos.bancomundial.org/indicator/IC.TAX.TOTL.CP.ZS\n",
    "- https://datos.bancomundial.org/indicador/GC.TAX.TOTL.GD.ZS"
   ]
  }
 ],
 "metadata": {
  "kernelspec": {
   "display_name": "Python 3",
   "language": "python",
   "name": "python3"
  },
  "language_info": {
   "codemirror_mode": {
    "name": "ipython",
    "version": 3
   },
   "file_extension": ".py",
   "mimetype": "text/x-python",
   "name": "python",
   "nbconvert_exporter": "python",
   "pygments_lexer": "ipython3",
   "version": "3.7.6"
  }
 },
 "nbformat": 4,
 "nbformat_minor": 4
}
